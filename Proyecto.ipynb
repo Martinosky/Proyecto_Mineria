{
 "cells": [
  {
   "cell_type": "markdown",
   "id": "ba51bc49-db9b-4670-9e89-e6425d362e5b",
   "metadata": {},
   "source": [
    "# Trabajo Mineria"
   ]
  }
 ],
 "metadata": {
  "kernelspec": {
   "display_name": "Python [conda env:base] *",
   "language": "python",
   "name": "conda-base-py"
  },
  "language_info": {
   "codemirror_mode": {
    "name": "ipython",
    "version": 3
   },
   "file_extension": ".py",
   "mimetype": "text/x-python",
   "name": "python",
   "nbconvert_exporter": "python",
   "pygments_lexer": "ipython3",
   "version": "3.12.3"
  }
 },
 "nbformat": 4,
 "nbformat_minor": 5
}
